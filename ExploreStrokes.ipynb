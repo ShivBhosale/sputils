{
 "cells": [
  {
   "cell_type": "markdown",
   "metadata": {},
   "source": [
    "# A rough exploration notebook to wrangle with the dataset"
   ]
  },
  {
   "cell_type": "code",
   "execution_count": 1,
   "metadata": {},
   "outputs": [],
   "source": [
    "import json\n",
    "import os\n",
    "import pprint"
   ]
  },
  {
   "cell_type": "markdown",
   "metadata": {},
   "source": [
    "### Set Config in this section"
   ]
  },
  {
   "cell_type": "code",
   "execution_count": 2,
   "metadata": {},
   "outputs": [],
   "source": [
    "BASE_STROKE_DIR = \"data/superpaper/\"\n",
    "DATASET_NUM = 2"
   ]
  },
  {
   "cell_type": "markdown",
   "metadata": {},
   "source": [
    "---"
   ]
  },
  {
   "cell_type": "markdown",
   "metadata": {},
   "source": [
    "## Legend\n",
    "The dataset will contain at least 3 files:\n",
    "1. Base_Layer (n).png: This is the image against which the sketch was traces\n",
    "2. stroke (n).json: The stroke data for the corresponding stroke will be here\n",
    "3. Layer_r (n).png: Png of r-th layer that comprises the drawing\n",
    "\n",
    "One can decide if they want to isolate a certain type of sketch to a certain layer (ex: outline on layer1 and shadows on layer2 and details on layer3 etc)"
   ]
  },
  {
   "cell_type": "code",
   "execution_count": 3,
   "metadata": {},
   "outputs": [],
   "source": [
    "if DATASET_NUM == 1:\n",
    "    data_json = \"stroke.json\"\n",
    "    assert(os.path.exists(BASE_STROKE_DIR+data_json)), \"data json not found\"\n",
    "    base_png = \"Base_Layer.png\"\n",
    "    assert(os.path.exists(BASE_STROKE_DIR+base_png)), \"base_png not found\"\n",
    "    l1_png = \"Layer_1.png\"\n",
    "    assert(os.path.exists(BASE_STROKE_DIR+l1_png)), \"l1_png not found\"\n",
    "else:\n",
    "    data_json = \"stroke ({}).json\".format(str(DATASET_NUM))\n",
    "    assert(os.path.exists(BASE_STROKE_DIR+data_json)), \"data json not found\"\n",
    "    base_png = \"Base_Layer ({}).png\".format(str(DATASET_NUM))\n",
    "    assert(os.path.exists(BASE_STROKE_DIR+base_png)), \"base_png not found\"\n",
    "    l1_png = \"Layer_1 ({}).png\".format(str(DATASET_NUM))\n",
    "    assert(os.path.exists(BASE_STROKE_DIR+l1_png)), \"l1_png not found\""
   ]
  },
  {
   "cell_type": "markdown",
   "metadata": {},
   "source": [
    "### Usage of Superpaper Class"
   ]
  },
  {
   "cell_type": "code",
   "execution_count": 4,
   "metadata": {},
   "outputs": [],
   "source": [
    "from superpaper.paper import superpaper"
   ]
  },
  {
   "cell_type": "code",
   "execution_count": 5,
   "metadata": {},
   "outputs": [],
   "source": [
    "paper = superpaper(BASE_STROKE_DIR+data_json)"
   ]
  },
  {
   "cell_type": "code",
   "execution_count": 6,
   "metadata": {},
   "outputs": [
    {
     "data": {
      "image/png": "[encoded data removed]",
      "text/plain": [
       "<PIL.Image.Image image mode=L size=999x649 at 0x7F7BC439B4A8>"
      ]
     },
     "execution_count": 6,
     "metadata": {},
     "output_type": "execute_result"
    }
   ],
   "source": [
    "# display in jupyter notebook\n",
    "paper.drawing['all']"
   ]
  },
  {
   "cell_type": "code",
   "execution_count": 7,
   "metadata": {},
   "outputs": [
    {
     "data": {
      "image/png": "[encoded data removed]",
      "text/plain": [
       "<PIL.Image.Image image mode=L size=999x649 at 0x7F7B9CBE61D0>"
      ]
     },
     "execution_count": 7,
     "metadata": {},
     "output_type": "execute_result"
    }
   ],
   "source": [
    "paper.drawing['Layer 1']"
   ]
  },
  {
   "cell_type": "code",
   "execution_count": 8,
   "metadata": {},
   "outputs": [],
   "source": [
    "# filter by layer_name\n",
    "paper.show('Layer 1')"
   ]
  },
  {
   "cell_type": "markdown",
   "metadata": {},
   "source": [
    "### Dataset Metadata"
   ]
  },
  {
   "cell_type": "code",
   "execution_count": 9,
   "metadata": {},
   "outputs": [
    {
     "data": {
      "text/plain": [
       "(999, 649)"
      ]
     },
     "execution_count": 9,
     "metadata": {},
     "output_type": "execute_result"
    }
   ],
   "source": [
    "paper.shape"
   ]
  },
  {
   "cell_type": "code",
   "execution_count": 12,
   "metadata": {},
   "outputs": [
    {
     "data": {
      "text/plain": [
       "'ninja_running'"
      ]
     },
     "execution_count": 12,
     "metadata": {},
     "output_type": "execute_result"
    }
   ],
   "source": [
    "# Description/Title given for the dataset\n",
    "paper.description"
   ]
  },
  {
   "cell_type": "code",
   "execution_count": 13,
   "metadata": {},
   "outputs": [
    {
     "data": {
      "text/plain": [
       "{'all': <PIL.Image.Image image mode=L size=999x649 at 0x7F7BC439B4A8>,\n",
       " 'Layer 1': <PIL.Image.Image image mode=L size=999x649 at 0x7F7B9CBE61D0>}"
      ]
     },
     "execution_count": 13,
     "metadata": {},
     "output_type": "execute_result"
    }
   ],
   "source": [
    "paper.getLayers()"
   ]
  },
  {
   "cell_type": "markdown",
   "metadata": {},
   "source": [
    "#### Get Strokes for each layer"
   ]
  },
  {
   "cell_type": "code",
   "execution_count": 14,
   "metadata": {},
   "outputs": [
    {
     "data": {
      "text/plain": [
       "[[431,\n",
       "  431,\n",
       "  430,\n",
       "  430,\n",
       "  430,\n",
       "  430,\n",
       "  431,\n",
       "  431,\n",
       "  431,\n",
       "  432,\n",
       "  434,\n",
       "  436,\n",
       "  437,\n",
       "  438,\n",
       "  440,\n",
       "  441,\n",
       "  444,\n",
       "  445,\n",
       "  445,\n",
       "  446,\n",
       "  446,\n",
       "  444],\n",
       " [105,\n",
       "  105,\n",
       "  106,\n",
       "  106,\n",
       "  106,\n",
       "  106,\n",
       "  105,\n",
       "  105,\n",
       "  105,\n",
       "  104,\n",
       "  103,\n",
       "  102,\n",
       "  101,\n",
       "  100,\n",
       "  99,\n",
       "  98,\n",
       "  97,\n",
       "  97,\n",
       "  97,\n",
       "  97,\n",
       "  97,\n",
       "  97]]"
      ]
     },
     "execution_count": 14,
     "metadata": {},
     "output_type": "execute_result"
    }
   ],
   "source": [
    "# Get the first-stroke data for each layer\n",
    "paper.stroke['Layer 1'][0]"
   ]
  },
  {
   "cell_type": "code",
   "execution_count": null,
   "metadata": {},
   "outputs": [],
   "source": []
  }
 ],
 "metadata": {
  "kernelspec": {
   "display_name": "Python 3",
   "language": "python",
   "name": "python3"
  },
  "language_info": {
   "codemirror_mode": {
    "name": "ipython",
    "version": 3
   },
   "file_extension": ".py",
   "mimetype": "text/x-python",
   "name": "python",
   "nbconvert_exporter": "python",
   "pygments_lexer": "ipython3",
   "version": "3.6.9"
  }
 },
 "nbformat": 4,
 "nbformat_minor": 4
}
